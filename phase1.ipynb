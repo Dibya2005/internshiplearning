{
 "cells": [
  {
   "cell_type": "code",
   "execution_count": null,
   "id": "9ae65c84",
   "metadata": {},
   "outputs": [],
   "source": [
    "##numpy array and basic"
   ]
  },
  {
   "cell_type": "code",
   "execution_count": 7,
   "id": "44897885",
   "metadata": {},
   "outputs": [],
   "source": [
    "import numpy as np"
   ]
  },
  {
   "cell_type": "markdown",
   "id": "16f222af",
   "metadata": {},
   "source": [
    "###creating array from list\n"
   ]
  },
  {
   "cell_type": "code",
   "execution_count": 8,
   "id": "5d8ca2c4",
   "metadata": {},
   "outputs": [
    {
     "name": "stdout",
     "output_type": "stream",
     "text": [
      "[1 2 3 4]\n",
      "[[1 2 3]\n",
      " [4 5 6]]\n"
     ]
    }
   ],
   "source": [
    "arr_1d=np.array([1,2,3,4])\n",
    "print(arr_1d)\n",
    "arr_2d=np.array([[1,2,3],[4,5,6]])\n",
    "print(arr_2d)"
   ]
  },
  {
   "cell_type": "markdown",
   "id": "4ce8cf7f",
   "metadata": {},
   "source": [
    "###list vs numpy\n"
   ]
  },
  {
   "cell_type": "markdown",
   "id": "4880997f",
   "metadata": {},
   "source": [
    "py_list"
   ]
  },
  {
   "cell_type": "code",
   "execution_count": 11,
   "id": "fcad2ab7",
   "metadata": {},
   "outputs": [
    {
     "name": "stdout",
     "output_type": "stream",
     "text": [
      "list multiplication [1, 2, 3, 1, 2, 3]\n",
      "array is [2 4 6]\n"
     ]
    }
   ],
   "source": [
    "pylist=[1,2,3]\n",
    "print(\"list multiplication\",pylist*2)\n",
    "np_array=np.array([1,2,3])\n",
    "print(\"array is\",np_array*2)"
   ]
  },
  {
   "cell_type": "code",
   "execution_count": 16,
   "id": "84b8a2c5",
   "metadata": {},
   "outputs": [
    {
     "name": "stdout",
     "output_type": "stream",
     "text": [
      "list opertion time 0.07901144027709961\n",
      "array opertion time 0.009194612503051758\n"
     ]
    }
   ],
   "source": [
    "import time\n",
    "start=time.time()\n",
    "py_list=[i*2 for i in range(1000000)]\n",
    "print(\"list opertion time\",time.time()-start)\n",
    "start=time.time()\n",
    "np_arr=np.arange(1000000)*2\n",
    "print(\"array opertion time\",time.time()-start)"
   ]
  },
  {
   "cell_type": "markdown",
   "id": "7de9daad",
   "metadata": {},
   "source": [
    "###creating array from scratch\n"
   ]
  },
  {
   "cell_type": "code",
   "execution_count": 22,
   "id": "ab4a7488",
   "metadata": {},
   "outputs": [
    {
     "name": "stdout",
     "output_type": "stream",
     "text": [
      "zeros array [[0. 0. 0. 0.]\n",
      " [0. 0. 0. 0.]\n",
      " [0. 0. 0. 0.]]\n",
      "one array [[1. 1. 1.]\n",
      " [1. 1. 1.]]\n",
      "FULL MATRICS IS [[6 6 6 6]\n",
      " [6 6 6 6]\n",
      " [6 6 6 6]]\n",
      "rendom array [[0.34962986 0.35639701 0.86018766]\n",
      " [0.33716118 0.64359154 0.30040465]]\n",
      "sequence array [0 2 4 6 8]\n"
     ]
    }
   ],
   "source": [
    "zeros=np.zeros((3,4))\n",
    "print(\"zeros array\",zeros)\n",
    "ones=np.ones((2,3))\n",
    "print(\"one array\",ones)\n",
    "full=np.full((3,4),6)\n",
    "print(\"FULL MATRICS IS\",full)\n",
    "rendom=np.random.random((2,3))\n",
    "print(\"rendom array\",rendom)\n",
    "sequence=np.arange(0,10,2)\n",
    "print(\"sequence array\",sequence)"
   ]
  },
  {
   "cell_type": "markdown",
   "id": "15d42224",
   "metadata": {},
   "source": [
    "###vector, matrics tensor\n"
   ]
  },
  {
   "cell_type": "code",
   "execution_count": 30,
   "id": "dd3bd9fb",
   "metadata": {},
   "outputs": [
    {
     "name": "stdout",
     "output_type": "stream",
     "text": [
      "vector: [1 2 3]\n",
      "matrics \n",
      " [[1 2 3]\n",
      " [4 5 6]]\n",
      "tensor\n",
      " [[[1 2]\n",
      "  [3 4]]\n",
      "\n",
      " [[5 6]\n",
      "  [7 8]]]\n"
     ]
    }
   ],
   "source": [
    "vector=np.array([1,2,3])\n",
    "print(\"vector:\",vector)\n",
    "matrix=np.array([[1,2,3],[4,5,6]])\n",
    "print(\"matrics \\n\",matrix)\n",
    "tensor=np.array([[[1,2],[3,4]],[[5,6],[7,8]]])\n",
    "print(\"tensor\\n\", tensor)"
   ]
  },
  {
   "cell_type": "markdown",
   "id": "707938aa",
   "metadata": {},
   "source": [
    "###array properties\n"
   ]
  },
  {
   "cell_type": "code",
   "execution_count": 34,
   "id": "1a49fc0f",
   "metadata": {},
   "outputs": [
    {
     "name": "stdout",
     "output_type": "stream",
     "text": [
      "shape (2, 3)\n",
      "dimmension 2\n",
      "size 6\n",
      "datatype int64\n"
     ]
    }
   ],
   "source": [
    "arr=np.array([[1,2,3],[2,5,6]])\n",
    "print(\"shape\",arr.shape)\n",
    "print(\"dimmension\",arr.ndim)\n",
    "print(\"size\",arr.size)\n",
    "print(\"datatype\",arr.dtype)"
   ]
  },
  {
   "cell_type": "markdown",
   "id": "50445d5a",
   "metadata": {},
   "source": [
    "###array reshaping"
   ]
  },
  {
   "cell_type": "code",
   "execution_count": 37,
   "id": "37707b77",
   "metadata": {},
   "outputs": [
    {
     "name": "stdout",
     "output_type": "stream",
     "text": [
      "original array [0 1 2 3 4 5 6 7 8 9]\n",
      "reshaped array [[0 1]\n",
      " [2 3]\n",
      " [4 5]\n",
      " [6 7]\n",
      " [8 9]]\n",
      "flatten array: [0 1 2 3 4 5 6 7 8 9]\n",
      "raveled array: [0 1 2 3 4 5 6 7 8 9]\n"
     ]
    }
   ],
   "source": [
    "arr=np.arange(10)\n",
    "print(\"original array\",arr)\n",
    "reshape=arr.reshape((5,2))\n",
    "print(\"reshaped array\",reshape)\n",
    "flatened=arr.flatten()\n",
    "print(\"flatten array:\",flatened)\n",
    "##only view change not copy\n",
    "raveled=reshape.ravel()\n",
    "print(\"raveled array:\",raveled)\n"
   ]
  },
  {
   "cell_type": "markdown",
   "id": "0c82c23f",
   "metadata": {},
   "source": [
    "transpose\n"
   ]
  },
  {
   "cell_type": "code",
   "execution_count": 39,
   "id": "efa848ed",
   "metadata": {},
   "outputs": [
    {
     "name": "stdout",
     "output_type": "stream",
     "text": [
      "transpose is :  [[0 2 4 6 8]\n",
      " [1 3 5 7 9]]\n"
     ]
    }
   ],
   "source": [
    "transpose=reshape.T\n",
    "print(\"transpose is : \",transpose)"
   ]
  }
 ],
 "metadata": {
  "kernelspec": {
   "display_name": "venv",
   "language": "python",
   "name": "python3"
  },
  "language_info": {
   "codemirror_mode": {
    "name": "ipython",
    "version": 3
   },
   "file_extension": ".py",
   "mimetype": "text/x-python",
   "name": "python",
   "nbconvert_exporter": "python",
   "pygments_lexer": "ipython3",
   "version": "3.13.1"
  }
 },
 "nbformat": 4,
 "nbformat_minor": 5
}
