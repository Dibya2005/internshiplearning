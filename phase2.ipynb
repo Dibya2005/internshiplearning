{
 "cells": [
  {
   "cell_type": "markdown",
   "id": "68d2eba1",
   "metadata": {},
   "source": [
    "## numpy array operations"
   ]
  },
  {
   "cell_type": "code",
   "execution_count": 7,
   "id": "fde68040",
   "metadata": {},
   "outputs": [],
   "source": [
    "import numpy as np"
   ]
  },
  {
   "cell_type": "code",
   "execution_count": 8,
   "id": "cf98fb36",
   "metadata": {},
   "outputs": [
    {
     "name": "stdout",
     "output_type": "stream",
     "text": [
      "basic slicing [3 4 5 6 7]\n",
      "with step [2 4 6 8]\n"
     ]
    }
   ],
   "source": [
    "arr=np.array([1,2,3,4,5,6,7,8,9])\n",
    "print(\"basic slicing\",arr[2:7])\n",
    "print(\"with step\",arr[1:8:2])\n"
   ]
  },
  {
   "cell_type": "markdown",
   "id": "d895f064",
   "metadata": {},
   "source": [
    "###for 2d array"
   ]
  },
  {
   "cell_type": "code",
   "execution_count": null,
   "id": "cc9825b4",
   "metadata": {},
   "outputs": [
    {
     "name": "stdout",
     "output_type": "stream",
     "text": [
      "specific element: 6\n",
      "entire row: [4 5 6]\n",
      "entire column: [2 5 8]\n"
     ]
    }
   ],
   "source": [
    "arr2d=np.array([[1,2,3],[4,5,6],[7,8,9]])\n",
    "print(\"specific element:\",arr2d[1,2])\n",
    "print(\"entire row:\",arr2d[1])\n",
    "print(\"entire row wise\",arr2d[:,1])"
   ]
  },
  {
   "cell_type": "markdown",
   "id": "1ef5995d",
   "metadata": {},
   "source": [
    "## sorting"
   ]
  },
  {
   "cell_type": "code",
   "execution_count": 15,
   "id": "7cb6605e",
   "metadata": {},
   "outputs": [
    {
     "name": "stdout",
     "output_type": "stream",
     "text": [
      "sorted array: [1 1 2 3 4 5 6 9]\n",
      "sorted 2d array by coloumns [[1 3]\n",
      " [1 2]\n",
      " [2 4]]\n",
      "array sort [[1 1]\n",
      " [2 2]\n",
      " [3 4]]\n"
     ]
    }
   ],
   "source": [
    "unsorted=np.array([3,1,4,1,5,9,2,6])\n",
    "print(\"sorted array:\",np.sort(unsorted))\n",
    "arr_2d=np.array([[3,1],[1,2],[2,4]])\n",
    "print(\"sorted 2d array by coloumns\",np.sort(arr_2d,axis=1))\n",
    "print(\"array sort\",np.sort(arr_2d,axis=0))"
   ]
  },
  {
   "cell_type": "markdown",
   "id": "645f882e",
   "metadata": {},
   "source": [
    "## filter"
   ]
  },
  {
   "cell_type": "code",
   "execution_count": 16,
   "id": "89f5ace9",
   "metadata": {},
   "outputs": [
    {
     "name": "stdout",
     "output_type": "stream",
     "text": [
      "even num [ 2  4  6  8 10]\n"
     ]
    }
   ],
   "source": [
    "numbers=np.array([1,2,3,4,5,6,7,8,9,10])\n",
    "even_num=numbers[numbers%2==0]\n",
    "print(\"even num\",even_num)"
   ]
  },
  {
   "cell_type": "markdown",
   "id": "50024291",
   "metadata": {},
   "source": [
    "## filter with mask"
   ]
  },
  {
   "cell_type": "code",
   "execution_count": 17,
   "id": "ec37685b",
   "metadata": {},
   "outputs": [
    {
     "name": "stdout",
     "output_type": "stream",
     "text": [
      "numbers greater then 5  [ 6  7  8  9 10]\n"
     ]
    }
   ],
   "source": [
    "##mask t pura expressin evaluation r karone store hoi asa\n",
    "mask=numbers>5\n",
    "print(\"numbers greater then 5 \",numbers[mask])\n"
   ]
  },
  {
   "cell_type": "markdown",
   "id": "01bc4ba9",
   "metadata": {},
   "source": [
    "## fancy indexing and np.where()"
   ]
  },
  {
   "cell_type": "code",
   "execution_count": null,
   "id": "7ad647fd",
   "metadata": {},
   "outputs": [
    {
     "name": "stdout",
     "output_type": "stream",
     "text": [
      "[1 3 5]\n",
      "(array([5, 6, 7, 8, 9]),)\n",
      "np where [ 6  7  8  9 10]\n"
     ]
    }
   ],
   "source": [
    "indices=[0,2,4] #atu alp saba lgbo\n",
    "print(numbers[indices])\n",
    "whereres=np.where(numbers>5)\n",
    "print(whereres) #store indexes of where reasult\n",
    "print(\"np where\",numbers[whereres])"
   ]
  },
  {
   "cell_type": "code",
   "execution_count": null,
   "id": "5b0f9f43",
   "metadata": {},
   "outputs": [
    {
     "name": "stdout",
     "output_type": "stream",
     "text": [
      "[ 1  2  3  4  5 24 28 32 36 40]\n"
     ]
    }
   ],
   "source": [
    "codnarr=np.where(numbers>5,numbers*4,numbers)\n",
    "print(codnarr)\n",
    "#this line means if (num>5){num*4} else{num}\n"
   ]
  },
  {
   "cell_type": "markdown",
   "id": "1c6d3ad1",
   "metadata": {},
   "source": [
    "## adding and removing data"
   ]
  },
  {
   "cell_type": "code",
   "execution_count": 21,
   "id": "5f2a90f0",
   "metadata": {},
   "outputs": [
    {
     "name": "stdout",
     "output_type": "stream",
     "text": [
      "[ 2  8 10  6 12]\n",
      "[1 2 5 3 4 1 6 5 3 8]\n",
      "[[1 2 3]]\n",
      "[[1 3]\n",
      " [4 6]]\n"
     ]
    }
   ],
   "source": [
    "arr1=np.array([1,2,5,3,4])\n",
    "arr2=np.array([1,6,5,3,8])\n",
    "combined=arr1+arr2 # aisa nhi krna ha same index r value bilk add hbo\n",
    "print(combined)\n",
    "combinedarr=np.concatenate((arr1,arr2))\n",
    "print(combinedarr)\n",
    "arr=np.array([[1,2,3],[4,5,6]])\n",
    "dele=np.delete(arr,1,axis=0) #row\n",
    "dele2=np.delete(arr,1,axis=1) #colon\n",
    "print(dele)\n",
    "print(dele2)\n",
    "\n"
   ]
  },
  {
   "cell_type": "markdown",
   "id": "59afd011",
   "metadata": {},
   "source": [
    "### array competibility"
   ]
  },
  {
   "cell_type": "code",
   "execution_count": 24,
   "id": "c9fd777c",
   "metadata": {},
   "outputs": [
    {
     "name": "stdout",
     "output_type": "stream",
     "text": [
      "array compatibility : False\n"
     ]
    }
   ],
   "source": [
    "a=np.array([1,2,3])\n",
    "b=np.array([4,5,6])\n",
    "c=np.array([7,8,10,9])\n",
    "print(\"array compatibility :\",a.shape==c.shape)\n",
    "\n"
   ]
  },
  {
   "cell_type": "markdown",
   "id": "32486895",
   "metadata": {},
   "source": [
    "### addition of new row in 2d array"
   ]
  },
  {
   "cell_type": "code",
   "execution_count": 27,
   "id": "565390da",
   "metadata": {},
   "outputs": [
    {
     "name": "stdout",
     "output_type": "stream",
     "text": [
      "[[1 2]\n",
      " [3 4]]\n",
      "[[1 2]\n",
      " [3 4]\n",
      " [5 6]]\n",
      "array with new column:  [[1 2 2]\n",
      " [3 4 4]]\n"
     ]
    }
   ],
   "source": [
    "original=np.array([[1,2],[3,4]])\n",
    "neew=np.array([[5,6]])\n",
    "with_new_row=np.vstack((original,neew))\n",
    "print(original)\n",
    "print(with_new_row)\n",
    "newcol=np.array([[2],[4]])\n",
    "with_new_col=np.hstack((original,newcol))\n",
    "print(\"array with new column: \",with_new_col)"
   ]
  },
  {
   "cell_type": "markdown",
   "id": "f7c52899",
   "metadata": {},
   "source": [
    "## delete operation"
   ]
  },
  {
   "cell_type": "code",
   "execution_count": null,
   "id": "3768ac75",
   "metadata": {},
   "outputs": [
    {
     "name": "stdout",
     "output_type": "stream",
     "text": [
      "[1 2 4 5 6]\n"
     ]
    }
   ],
   "source": [
    "arr = np.array([1,2,3,4,5,6])\n",
    "deleted = np.delete(arr, 2)\n",
    "print(deleted)#3 tu nho hbo"
   ]
  }
 ],
 "metadata": {
  "kernelspec": {
   "display_name": "venv",
   "language": "python",
   "name": "python3"
  },
  "language_info": {
   "codemirror_mode": {
    "name": "ipython",
    "version": 3
   },
   "file_extension": ".py",
   "mimetype": "text/x-python",
   "name": "python",
   "nbconvert_exporter": "python",
   "pygments_lexer": "ipython3",
   "version": "3.13.1"
  }
 },
 "nbformat": 4,
 "nbformat_minor": 5
}
