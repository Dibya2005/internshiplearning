{
 "cells": [
  {
   "cell_type": "markdown",
   "id": "bdfa08d8",
   "metadata": {},
   "source": [
    "decision tree hw"
   ]
  }
 ],
 "metadata": {
  "language_info": {
   "name": "python"
  }
 },
 "nbformat": 4,
 "nbformat_minor": 5
}
