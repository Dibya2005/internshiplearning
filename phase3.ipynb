{
 "cells": [
  {
   "cell_type": "markdown",
   "id": "13fb33f8",
   "metadata": {},
   "source": [
    "### advance operation with buisness example"
   ]
  },
  {
   "cell_type": "code",
   "execution_count": 6,
   "id": "cee613ce",
   "metadata": {},
   "outputs": [
    {
     "name": "stderr",
     "output_type": "stream",
     "text": [
      "\n",
      "[notice] A new release of pip is available: 24.3.1 -> 25.1.1\n",
      "[notice] To update, run: python.exe -m pip install --upgrade pip\n"
     ]
    },
    {
     "name": "stdout",
     "output_type": "stream",
     "text": [
      "Collecting matplotlib\n",
      "  Using cached matplotlib-3.10.3-cp313-cp313-win_amd64.whl.metadata (11 kB)\n",
      "Collecting contourpy>=1.0.1 (from matplotlib)\n",
      "  Using cached contourpy-1.3.2-cp313-cp313-win_amd64.whl.metadata (5.5 kB)\n",
      "Collecting cycler>=0.10 (from matplotlib)\n",
      "  Using cached cycler-0.12.1-py3-none-any.whl.metadata (3.8 kB)\n",
      "Collecting fonttools>=4.22.0 (from matplotlib)\n",
      "  Using cached fonttools-4.58.1-cp313-cp313-win_amd64.whl.metadata (108 kB)\n",
      "Collecting kiwisolver>=1.3.1 (from matplotlib)\n",
      "  Using cached kiwisolver-1.4.8-cp313-cp313-win_amd64.whl.metadata (6.3 kB)\n",
      "Requirement already satisfied: numpy>=1.23 in c:\\users\\dibya\\onedrive\\pictures\\numpy yt\\venv\\lib\\site-packages (from matplotlib) (2.2.6)\n",
      "Requirement already satisfied: packaging>=20.0 in c:\\users\\dibya\\onedrive\\pictures\\numpy yt\\venv\\lib\\site-packages (from matplotlib) (25.0)\n",
      "Collecting pillow>=8 (from matplotlib)\n",
      "  Downloading pillow-11.2.1-cp313-cp313-win_amd64.whl.metadata (9.1 kB)\n",
      "Collecting pyparsing>=2.3.1 (from matplotlib)\n",
      "  Using cached pyparsing-3.2.3-py3-none-any.whl.metadata (5.0 kB)\n",
      "Requirement already satisfied: python-dateutil>=2.7 in c:\\users\\dibya\\onedrive\\pictures\\numpy yt\\venv\\lib\\site-packages (from matplotlib) (2.9.0.post0)\n",
      "Requirement already satisfied: six>=1.5 in c:\\users\\dibya\\onedrive\\pictures\\numpy yt\\venv\\lib\\site-packages (from python-dateutil>=2.7->matplotlib) (1.17.0)\n",
      "Using cached matplotlib-3.10.3-cp313-cp313-win_amd64.whl (8.1 MB)\n",
      "Using cached contourpy-1.3.2-cp313-cp313-win_amd64.whl (223 kB)\n",
      "Using cached cycler-0.12.1-py3-none-any.whl (8.3 kB)\n",
      "Using cached fonttools-4.58.1-cp313-cp313-win_amd64.whl (2.2 MB)\n",
      "Using cached kiwisolver-1.4.8-cp313-cp313-win_amd64.whl (71 kB)\n",
      "Downloading pillow-11.2.1-cp313-cp313-win_amd64.whl (2.7 MB)\n",
      "   ---------------------------------------- 0.0/2.7 MB ? eta -:--:--\n",
      "   ----------- ---------------------------- 0.8/2.7 MB 7.6 MB/s eta 0:00:01\n",
      "   ---------------------------------------- 2.7/2.7 MB 12.8 MB/s eta 0:00:00\n",
      "Using cached pyparsing-3.2.3-py3-none-any.whl (111 kB)\n",
      "Installing collected packages: pyparsing, pillow, kiwisolver, fonttools, cycler, contourpy, matplotlib\n",
      "Successfully installed contourpy-1.3.2 cycler-0.12.1 fonttools-4.58.1 kiwisolver-1.4.8 matplotlib-3.10.3 pillow-11.2.1 pyparsing-3.2.3\n",
      "Note: you may need to restart the kernel to use updated packages.\n",
      "==== Zomato sales analysis ==== \n",
      "\n",
      " Sales data shape (5, 5)\n",
      "\n",
      " Sample data for 1st 3 restau:  [[     1 150000 180000 220000 250000]\n",
      " [     2 120000 140000 160000 190000]\n",
      " [     3 200000 230000 260000 300000]]\n",
      "sales data only [[     2 120000 140000 160000 190000]\n",
      " [     3 200000 230000 260000 300000]\n",
      " [     4 180000 210000 240000 270000]\n",
      " [     5 160000 185000 205000 230000]]\n"
     ]
    }
   ],
   "source": [
    "%pip install matplotlib\n",
    "\n",
    "import numpy as np\n",
    "import matplotlib.pyplot as plt\n",
    "# Data structure: [restaurant_id, 2021, 2022, 2023, 2024]\n",
    "sales_data = np.array([\n",
    "    [1, 150000, 180000, 220000, 250000],  # Paradise Biryani\n",
    "    [2, 120000, 140000, 160000, 190000],  # Beijing Bites\n",
    "    [3, 200000, 230000, 260000, 300000],  # Pizza Hub\n",
    "    [4, 180000, 210000, 240000, 270000],  # Burger Point\n",
    "    [5, 160000, 185000, 205000, 230000]   # Chai Point\n",
    "])\n",
    "\n",
    "print(\"==== Zomato sales analysis ==== \")\n",
    "print(\"\\n Sales data shape\", sales_data.shape)\n",
    "print(\"\\n Sample data for 1st 3 restau: \", sales_data[:3])\n",
    "print(\"sales data only\",sales_data[:][1:]) #it will hide resturent ids"
   ]
  },
  {
   "cell_type": "code",
   "execution_count": 1,
   "id": "dd2a5c8d",
   "metadata": {},
   "outputs": [
    {
     "name": "stdout",
     "output_type": "stream",
     "text": [
      "==== Zomato sales analysis ==== \n",
      "\n",
      " Sales data shape \n",
      " (5, 5)\n",
      "\n",
      " Sample data for 1st 3 restau:  [[     1 150000 180000 220000 250000]\n",
      " [     2 120000 140000 160000 190000]\n",
      " [     3 200000 230000 260000 300000]]\n",
      "sales data only [[150000 180000 220000 250000]\n",
      " [120000 140000 160000 190000]\n",
      " [200000 230000 260000 300000]\n",
      " [180000 210000 240000 270000]\n",
      " [160000 185000 205000 230000]]\n"
     ]
    }
   ],
   "source": [
    "\n",
    "\n",
    "import numpy as np\n",
    "import matplotlib.pyplot as plt\n",
    "# Data structure: [restaurant_id, 2021, 2022, 2023, 2024]\n",
    "sales_data = np.array([\n",
    "    [1, 150000, 180000, 220000, 250000],  # Paradise Biryani\n",
    "    [2, 120000, 140000, 160000, 190000],  # Beijing Bites\n",
    "    [3, 200000, 230000, 260000, 300000],  # Pizza Hub\n",
    "    [4, 180000, 210000, 240000, 270000],  # Burger Point\n",
    "    [5, 160000, 185000, 205000, 230000]   # Chai Point\n",
    "])\n",
    "\n",
    "print(\"==== Zomato sales analysis ==== \")\n",
    "print(\"\\n Sales data shape \\n\", sales_data.shape)\n",
    "print(\"\\n Sample data for 1st 3 restau: \", sales_data[:3])\n",
    "print(\"sales data only\",sales_data[: ,1:]) #it will hide resturent ids"
   ]
  },
  {
   "cell_type": "code",
   "execution_count": 23,
   "id": "bee8732e",
   "metadata": {},
   "outputs": [
    {
     "name": "stdout",
     "output_type": "stream",
     "text": [
      "[     15  810000  945000 1085000 1240000]\n",
      "[ 810000  945000 1085000 1240000]\n",
      "min sales per resturent: [150000 120000 200000 180000 160000]\n",
      "max sales per year: [200000 230000 260000 300000]\n",
      "avarage sales per resturent:  [200000. 152500. 247500. 225000. 195000.]\n",
      "cumultive sales: [[150000 330000 550000 800000]\n",
      " [120000 260000 420000 610000]\n",
      " [200000 430000 690000 990000]\n",
      " [180000 390000 630000 900000]\n",
      " [160000 345000 550000 780000]]\n"
     ]
    },
    {
     "data": {
      "image/png": "[encoded data removed]",
      "text/plain": [
       "<Figure size 1000x600 with 1 Axes>"
      ]
     },
     "metadata": {},
     "output_type": "display_data"
    }
   ],
   "source": [
    "#total sales per year\n",
    "print(np.sum(sales_data,axis=0))\n",
    "yearlytot=np.sum(sales_data[:,1:],axis=0)\n",
    "print(yearlytot) #yearly total excluding id\n",
    "minsales=np.min(sales_data[:,1:],axis=1) #row t sabo min\n",
    "print(\"min sales per resturent:\",minsales)\n",
    "max=np.max(sales_data[:,1:],axis=0)\n",
    "print(\"max sales per year:\",max)\n",
    "#avarage sales per resturent\n",
    "avg = np.mean(sales_data[:,1:], axis=1)\n",
    "print(\"avarage sales per resturent: \", avg)\n",
    "#for cumilative sum\\\n",
    "cumsum=np.cumsum(sales_data[:,1:],axis=1)\n",
    "print(\"cumultive sales:\",cumsum)\n",
    "plt.figure(figsize=(10,6))\n",
    "plt.plot(np.mean(cumsum,axis=0))\n",
    "plt.title(\"avarage cumulative sales across all resturent\")\n",
    "plt.xlabel(\"year\")\n",
    "plt.ylabel(\"sales\")\n",
    "plt.grid(True) #graph paper r nisna line aha\n",
    "plt.show()"
   ]
  },
  {
   "cell_type": "markdown",
   "id": "e137fd0b",
   "metadata": {},
   "source": [
    "### vector operation"
   ]
  },
  {
   "cell_type": "code",
   "execution_count": null,
   "id": "031aecae",
   "metadata": {},
   "outputs": [
    {
     "name": "stdout",
     "output_type": "stream",
     "text": [
      "vector addition [ 7  9 11 13 15]\n",
      "vector multiplication [ 6 14 24 36 50]\n",
      "dot product 130\n",
      "angle between the vectors:  0.26554161733900966\n"
     ]
    }
   ],
   "source": [
    "vector1=np.array([1,2,3,4,5])\n",
    "vector2=np.array([6,7,8,9,10])\n",
    "print(\"vector addition\",vector1+vector2)\n",
    "print(\"vector multiplication\",vector1*vector2)\n",
    "print(\"dot product\",np.dot(vector1,vector2))\n",
    "anglebvec = np.arccos(np.dot(vector1, vector2) / (np.linalg.norm(vector1) * np.linalg.norm(vector2)))\n",
    "\n",
    "print(\"angle between the vectors: \",anglebvec)\n"
   ]
  },
  {
   "cell_type": "markdown",
   "id": "4a9d3bcd",
   "metadata": {},
   "source": [
    "## vectorised operation\n"
   ]
  },
  {
   "cell_type": "code",
   "execution_count": 29,
   "id": "fa84ff24",
   "metadata": {},
   "outputs": [
    {
     "name": "stdout",
     "output_type": "stream",
     "text": [
      "vectorized upper:  ['BIRIYANI' 'CAFE' 'CHINISE' 'PIZZA' 'BURGER']\n"
     ]
    }
   ],
   "source": [
    "resturenttypes = np.array(['biriyani', 'cafe', 'chinise', 'pizza', 'burger'])\n",
    "vectorize_upper = np.vectorize(str.upper)\n",
    "# normal str.upper tu vectorize hoi gal mana xi protaktu method t individualy apply hoba pra\n",
    "print(\"vectorized upper: \", vectorize_upper(resturenttypes))"
   ]
  },
  {
   "cell_type": "markdown",
   "id": "4283ae5e",
   "metadata": {},
   "source": [
    "## broadcast"
   ]
  },
  {
   "cell_type": "code",
   "execution_count": 32,
   "id": "bf1c7d48",
   "metadata": {},
   "outputs": [
    {
     "name": "stdout",
     "output_type": "stream",
     "text": [
      "[[12500.         15000.         18333.33333333 20833.33333333]\n",
      " [10000.         11666.66666667 13333.33333333 15833.33333333]\n",
      " [16666.66666667 19166.66666667 21666.66666667 25000.        ]\n",
      " [15000.         17500.         20000.         22500.        ]\n",
      " [13333.33333333 15416.66666667 17083.33333333 19166.66666667]]\n"
     ]
    }
   ],
   "source": [
    "monthlyavg=sales_data[:,1:]/12 #scaler num kisi bhi vector ke sath jayenga to unka brodcast hota ha mtlab ek ek ke pass jayega aur ye operation perform karega\n",
    "print(monthlyavg)\n"
   ]
  },
  {
   "cell_type": "code",
   "execution_count": null,
   "id": "164055ea",
   "metadata": {},
   "outputs": [],
   "source": []
  }
 ],
 "metadata": {
  "kernelspec": {
   "display_name": "venv",
   "language": "python",
   "name": "python3"
  },
  "language_info": {
   "codemirror_mode": {
    "name": "ipython",
    "version": 3
   },
   "file_extension": ".py",
   "mimetype": "text/x-python",
   "name": "python",
   "nbconvert_exporter": "python",
   "pygments_lexer": "ipython3",
   "version": "3.13.1"
  }
 },
 "nbformat": 4,
 "nbformat_minor": 5
}
