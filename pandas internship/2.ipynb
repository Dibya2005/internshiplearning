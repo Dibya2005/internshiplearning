{
 "cells": [
  {
   "cell_type": "markdown",
   "id": "900e4d7a",
   "metadata": {},
   "source": [
    "### read json\n"
   ]
  },
  {
   "cell_type": "code",
   "execution_count": 2,
   "id": "549a7dda",
   "metadata": {},
   "outputs": [
    {
     "name": "stdout",
     "output_type": "stream",
     "text": [
      "<bound method DataFrame.to_string of      Duration  Pulse  Maxpulse  Calories\n",
      "0          60    110       130     409.1\n",
      "1          60    117       145     479.0\n",
      "2          60    103       135     340.0\n",
      "3          45    109       175     282.4\n",
      "4          45    117       148     406.0\n",
      "..        ...    ...       ...       ...\n",
      "164        60    105       140     290.8\n",
      "165        60    110       145     300.4\n",
      "166        60    115       145     310.2\n",
      "167        75    120       150     320.4\n",
      "168        75    125       150     330.4\n",
      "\n",
      "[169 rows x 4 columns]>\n"
     ]
    }
   ],
   "source": [
    "import pandas as pd \n",
    "df=pd.read_json('data.json')\n",
    "print(df.to_string)"
   ]
  },
  {
   "cell_type": "code",
   "execution_count": 3,
   "id": "f5815502",
   "metadata": {},
   "outputs": [
    {
     "name": "stdout",
     "output_type": "stream",
     "text": [
      "   Duration  Pulse  Maxpulse  Calories\n",
      "0        60    110       130       409\n",
      "1        60    117       145       479\n",
      "2        60    103       135       340\n",
      "3        45    109       175       282\n",
      "4        45    117       148       406\n",
      "5        60    102       127       300\n"
     ]
    }
   ],
   "source": [
    "#using python dictionary\n",
    "data = {\n",
    "  \"Duration\":{\n",
    "    \"0\":60,\n",
    "    \"1\":60,\n",
    "    \"2\":60,\n",
    "    \"3\":45,\n",
    "    \"4\":45,\n",
    "    \"5\":60\n",
    "  },\n",
    "  \"Pulse\":{\n",
    "    \"0\":110,\n",
    "    \"1\":117,\n",
    "    \"2\":103,\n",
    "    \"3\":109,\n",
    "    \"4\":117,\n",
    "    \"5\":102\n",
    "  },\n",
    "  \"Maxpulse\":{\n",
    "    \"0\":130,\n",
    "    \"1\":145,\n",
    "    \"2\":135,\n",
    "    \"3\":175,\n",
    "    \"4\":148,\n",
    "    \"5\":127\n",
    "  },\n",
    "  \"Calories\":{\n",
    "    \"0\":409,\n",
    "    \"1\":479,\n",
    "    \"2\":340,\n",
    "    \"3\":282,\n",
    "    \"4\":406,\n",
    "    \"5\":300\n",
    "  }\n",
    "}\n",
    "\n",
    "df = pd.DataFrame(data)\n",
    "\n",
    "print(df)"
   ]
  },
  {
   "cell_type": "markdown",
   "id": "52aebc3b",
   "metadata": {},
   "source": [
    "## analysing framework"
   ]
  },
  {
   "cell_type": "markdown",
   "id": "d557a3e8",
   "metadata": {},
   "source": [
    "## 1.viewing data"
   ]
  },
  {
   "cell_type": "code",
   "execution_count": 4,
   "id": "0ad1b8f6",
   "metadata": {},
   "outputs": [
    {
     "name": "stdout",
     "output_type": "stream",
     "text": [
      "   Index      Customer Id First Name  Last Name  \\\n",
      "0      1  DD37Cf93aecA6Dc     Sheryl     Baxter   \n",
      "1      2  1Ef7b82A4CAAD10    Preston     Lozano   \n",
      "2      3  6F94879bDAfE5a6        Roy      Berry   \n",
      "3      4  5Cef8BFA16c5e3c      Linda      Olsen   \n",
      "4      5  053d585Ab6b3159     Joanna     Bender   \n",
      "5      6  2d08FB17EE273F4      Aimee      Downs   \n",
      "6      7  EA4d384DfDbBf77     Darren       Peck   \n",
      "7      8  0e04AFde9f225dE      Brett     Mullen   \n",
      "8      9  C2dE4dEEc489ae0     Sheryl     Meyers   \n",
      "9     10  8C2811a503C7c5a   Michelle  Gallagher   \n",
      "\n",
      "                           Company               City  \\\n",
      "0                  Rasmussen Group       East Leonard   \n",
      "1                      Vega-Gentry  East Jimmychester   \n",
      "2                    Murillo-Perry      Isabelborough   \n",
      "3  Dominguez, Mcmillan and Donovan         Bensonview   \n",
      "4         Martin, Lang and Andrade     West Priscilla   \n",
      "5                     Steele Group      Chavezborough   \n",
      "6     Lester, Woodard and Mitchell           Lake Ana   \n",
      "7     Sanford, Davenport and Giles            Kimport   \n",
      "8                   Browning-Simon       Robersonstad   \n",
      "9                     Beck-Hendrix         Elaineberg   \n",
      "\n",
      "                      Country                 Phone 1                Phone 2  \\\n",
      "0                       Chile            229.077.5154       397.884.0519x718   \n",
      "1                    Djibouti              5153435776       686-620-1820x944   \n",
      "2         Antigua and Barbuda         +1-539-402-0259    (496)978-3969x58947   \n",
      "3          Dominican Republic  001-808-617-6467x12895        +1-813-324-8756   \n",
      "4  Slovakia (Slovak Republic)  001-234-203-0635x76146  001-199-446-3860x3486   \n",
      "5      Bosnia and Herzegovina     (283)437-3886x88321           999-728-1637   \n",
      "6            Pitcairn Islands      (496)452-6181x3291   +1-247-266-0963x4995   \n",
      "7                    Bulgaria    001-583-352-7197x297       001-333-145-0369   \n",
      "8                      Cyprus       854-138-4911x5772    +1-448-910-2276x729   \n",
      "9                 Timor-Leste        739.218.2516x459   001-054-401-0347x617   \n",
      "\n",
      "                         Email Subscription Date                      Website  \n",
      "0     zunigavanessa@smith.info        2020-08-24   http://www.stephenson.com/  \n",
      "1              vmata@colon.com        2021-04-23        http://www.hobbs.com/  \n",
      "2          beckycarr@hogan.com        2020-03-25     http://www.lawrence.com/  \n",
      "3  stanleyblackwell@benson.org        2020-06-02   http://www.good-lyons.com/  \n",
      "4      colinalvarado@miles.net        2021-04-17  https://goodwin-ingram.com/  \n",
      "5          louis27@gilbert.com        2020-02-25       http://www.berger.net/  \n",
      "6          tgates@cantrell.com        2021-08-24          https://www.le.com/  \n",
      "7              asnow@colon.com        2021-04-12  https://hammond-ramsey.com/  \n",
      "8      mariokhan@ryan-pope.org        2020-01-13     https://www.bullock.net/  \n",
      "9            mdyer@escobar.net        2021-11-08           https://arias.com/  \n"
     ]
    }
   ],
   "source": [
    "# One of the most used method for getting a quick overview of the DataFrame, is the head() method.\n",
    "\n",
    "# The head() method returns the headers and a specified number of rows, starting from the top\n",
    "import pandas as pd\n",
    "\n",
    "df = pd.read_csv('data.csv')\n",
    "\n",
    "print(df.head(10))"
   ]
  },
  {
   "cell_type": "code",
   "execution_count": 5,
   "id": "20054b0d",
   "metadata": {},
   "outputs": [
    {
     "name": "stdout",
     "output_type": "stream",
     "text": [
      "   Index      Customer Id First Name Last Name  \\\n",
      "0      1  DD37Cf93aecA6Dc     Sheryl    Baxter   \n",
      "1      2  1Ef7b82A4CAAD10    Preston    Lozano   \n",
      "2      3  6F94879bDAfE5a6        Roy     Berry   \n",
      "3      4  5Cef8BFA16c5e3c      Linda     Olsen   \n",
      "4      5  053d585Ab6b3159     Joanna    Bender   \n",
      "\n",
      "                           Company               City  \\\n",
      "0                  Rasmussen Group       East Leonard   \n",
      "1                      Vega-Gentry  East Jimmychester   \n",
      "2                    Murillo-Perry      Isabelborough   \n",
      "3  Dominguez, Mcmillan and Donovan         Bensonview   \n",
      "4         Martin, Lang and Andrade     West Priscilla   \n",
      "\n",
      "                      Country                 Phone 1                Phone 2  \\\n",
      "0                       Chile            229.077.5154       397.884.0519x718   \n",
      "1                    Djibouti              5153435776       686-620-1820x944   \n",
      "2         Antigua and Barbuda         +1-539-402-0259    (496)978-3969x58947   \n",
      "3          Dominican Republic  001-808-617-6467x12895        +1-813-324-8756   \n",
      "4  Slovakia (Slovak Republic)  001-234-203-0635x76146  001-199-446-3860x3486   \n",
      "\n",
      "                         Email Subscription Date                      Website  \n",
      "0     zunigavanessa@smith.info        2020-08-24   http://www.stephenson.com/  \n",
      "1              vmata@colon.com        2021-04-23        http://www.hobbs.com/  \n",
      "2          beckycarr@hogan.com        2020-03-25     http://www.lawrence.com/  \n",
      "3  stanleyblackwell@benson.org        2020-06-02   http://www.good-lyons.com/  \n",
      "4      colinalvarado@miles.net        2021-04-17  https://goodwin-ingram.com/  \n"
     ]
    }
   ],
   "source": [
    "import pandas as pd\n",
    "\n",
    "df = pd.read_csv('data.csv')\n",
    "\n",
    "print(df.head()) # it print 1st 5 rows"
   ]
  },
  {
   "cell_type": "code",
   "execution_count": 6,
   "id": "24dcd9c0",
   "metadata": {},
   "outputs": [
    {
     "name": "stdout",
     "output_type": "stream",
     "text": [
      "    Index      Customer Id First Name Last Name                Company  \\\n",
      "95     96  cb8E23e48d22Eae       Karl     Greer              Carey LLC   \n",
      "96     97  CeD220bdAaCfaDf       Lynn  Atkinson  Ware, Burns and Oneal   \n",
      "97     98  28CDbC0dFe4b1Db       Fred    Guerra          Schmitt-Jones   \n",
      "98     99  c23d1D9EE8DEB0A     Yvonne    Farmer     Fitzgerald-Harrell   \n",
      "99    100  2354a0E336A91A1   Clarence    Haynes     Le, Nash and Cross   \n",
      "\n",
      "               City          Country               Phone 1  \\\n",
      "95     East Richard           Guyana   (188)169-1674x58692   \n",
      "96     New Bradview        Sri Lanka       +1-846-706-2218   \n",
      "97       Ortegaland  Solomon Islands  +1-753-067-8419x7170   \n",
      "98  Lake Elijahview            Aruba         (530)311-9786   \n",
      "99        Judymouth         Honduras         (753)813-6941   \n",
      "\n",
      "                   Phone 2                           Email Subscription Date  \\\n",
      "95    001-841-293-3519x614                hhart@jensen.com        2022-01-30   \n",
      "96            605.413.3198               vkemp@ferrell.com        2021-07-10   \n",
      "97   +1-632-666-7507x92121                swagner@kane.org        2021-09-18   \n",
      "98  001-869-452-0943x12424  mccarthystephen@horn-green.biz        2021-08-11   \n",
      "99            783.639.1472          colleen91@faulkner.biz        2020-03-11   \n",
      "\n",
      "                              Website  \n",
      "95            http://hayes-perez.com/  \n",
      "96         https://novak-allison.com/  \n",
      "97              https://www.ross.com/  \n",
      "98               http://watkins.info/  \n",
      "99  http://www.hatfield-saunders.net/  \n"
     ]
    }
   ],
   "source": [
    "import pandas as pd\n",
    "\n",
    "df = pd.read_csv('data.csv')\n",
    "\n",
    "print(df.tail())\n",
    "#last 5 rows"
   ]
  },
  {
   "cell_type": "markdown",
   "id": "b76c33bd",
   "metadata": {},
   "source": [
    "## info about the data"
   ]
  },
  {
   "cell_type": "code",
   "execution_count": 7,
   "id": "351520b8",
   "metadata": {},
   "outputs": [
    {
     "name": "stdout",
     "output_type": "stream",
     "text": [
      "<class 'pandas.core.frame.DataFrame'>\n",
      "RangeIndex: 100 entries, 0 to 99\n",
      "Data columns (total 12 columns):\n",
      " #   Column             Non-Null Count  Dtype \n",
      "---  ------             --------------  ----- \n",
      " 0   Index              100 non-null    int64 \n",
      " 1   Customer Id        100 non-null    object\n",
      " 2   First Name         100 non-null    object\n",
      " 3   Last Name          100 non-null    object\n",
      " 4   Company            100 non-null    object\n",
      " 5   City               100 non-null    object\n",
      " 6   Country            100 non-null    object\n",
      " 7   Phone 1            100 non-null    object\n",
      " 8   Phone 2            100 non-null    object\n",
      " 9   Email              100 non-null    object\n",
      " 10  Subscription Date  100 non-null    object\n",
      " 11  Website            100 non-null    object\n",
      "dtypes: int64(1), object(11)\n",
      "memory usage: 9.5+ KB\n",
      "None\n"
     ]
    }
   ],
   "source": [
    "print(df.info())"
   ]
  }
 ],
 "metadata": {
  "kernelspec": {
   "display_name": ".venv",
   "language": "python",
   "name": "python3"
  },
  "language_info": {
   "codemirror_mode": {
    "name": "ipython",
    "version": 3
   },
   "file_extension": ".py",
   "mimetype": "text/x-python",
   "name": "python",
   "nbconvert_exporter": "python",
   "pygments_lexer": "ipython3",
   "version": "3.13.1"
  }
 },
 "nbformat": 4,
 "nbformat_minor": 5
}
